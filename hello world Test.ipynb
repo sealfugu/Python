{
 "cells": [
  {
   "cell_type": "code",
   "execution_count": 3,
   "id": "45b461cf-abfc-4399-81b6-2b925a9b9c85",
   "metadata": {
    "tags": []
   },
   "outputs": [],
   "source": [
    "def test():\n",
    "    print('hello world')\n",
    "#定義function\n"
   ]
  },
  {
   "cell_type": "code",
   "execution_count": 4,
   "id": "51e4480b-5498-43d9-82fa-5a13565ddbb8",
   "metadata": {
    "tags": []
   },
   "outputs": [
    {
     "data": {
      "text/plain": [
       "<function __main__.test()>"
      ]
     },
     "execution_count": 4,
     "metadata": {},
     "output_type": "execute_result"
    }
   ],
   "source": [
    "test"
   ]
  },
  {
   "cell_type": "code",
   "execution_count": 6,
   "id": "6defba1b-fc4f-45b3-9d6c-7b679ad5d7c9",
   "metadata": {},
   "outputs": [
    {
     "name": "stdout",
     "output_type": "stream",
     "text": [
      "hello world\n"
     ]
    }
   ],
   "source": [
    "test()"
   ]
  },
  {
   "cell_type": "code",
   "execution_count": 5,
   "id": "c4a3c5be-a3b5-4d2e-b757-7417b32f0685",
   "metadata": {
    "tags": []
   },
   "outputs": [
    {
     "name": "stdout",
     "output_type": "stream",
     "text": [
      "<function test at 0x000001D31FCFF160>\n"
     ]
    }
   ],
   "source": [
    "print(test)"
   ]
  },
  {
   "cell_type": "code",
   "execution_count": 2,
   "id": "a2e5a81c-7aca-43df-b3a6-2ef9ffbc0c56",
   "metadata": {},
   "outputs": [
    {
     "name": "stdout",
     "output_type": "stream",
     "text": [
      "['a', 3, 5, 'gg', '', 90, 70, 50, 30, 10]\n"
     ]
    }
   ],
   "source": [
    "a = [\"a\",3,5,\"gg\",\"\",90,70,50,30,10]\n",
    "print(a)\n",
    "#list "
   ]
  },
  {
   "cell_type": "code",
   "execution_count": 3,
   "id": "23446b84-0def-43fe-9768-a27409286a6a",
   "metadata": {},
   "outputs": [
    {
     "name": "stdout",
     "output_type": "stream",
     "text": [
      "a\n",
      "3\n",
      "5\n",
      "gg\n",
      "\n",
      "90\n",
      "70\n",
      "50\n",
      "30\n",
      "10\n",
      "['a', 3, 5, 'gg', '', 90, 70, 50, 30, 10]\n",
      "['a', 3, 5, 99, '', 90, 70, 50, 30, 10]\n",
      "[3, 5, 99, '', 90, 70, 50, 30, 10]\n",
      "[3, 99, 90, 50, 10]\n"
     ]
    }
   ],
   "source": [
    "for dat in a:\n",
    "    print(dat)\n",
    "    \n",
    "b = a\n",
    "print(b)\n",
    "b[3] = 99\n",
    "print(a)\n",
    "\n",
    "\n",
    "c = a[1:len(a):1]\n",
    "print(c)\n",
    "d = a[1:len(a):2]\n",
    "print(d)\n",
    "\n",
    "#call reference 的特性\n"
   ]
  },
  {
   "cell_type": "code",
   "execution_count": 8,
   "id": "90c961d7-c486-4046-a8be-75b24e344d3c",
   "metadata": {},
   "outputs": [
    {
     "name": "stdout",
     "output_type": "stream",
     "text": [
      "test\n",
      "test\n",
      "test\n",
      "04*01=04 04*02=08 04*03=12 04*04=16 04*05=20 04*06=24 04*07=28 04*08=32 04*09=36 \n",
      "test\n",
      "06*01=06 06*02=12 06*03=18 06*04=24 06*05=30 06*06=36 06*07=42 06*08=48 06*09=54 \n",
      "test\n",
      "test\n",
      "test\n"
     ]
    }
   ],
   "source": [
    "for i  in range(9):\n",
    "    if i == 3 or i==5:\n",
    "        for j in range(9):\n",
    "            print('%02d*%02d=%02d' %(i+1, j+1 , (i+1)*(j+1)),end=\" \")\n",
    "        print()\n",
    "    else:\n",
    "        print('test')\n",
    "    \n",
    "#for 迴圈 99乘法表\n",
    "#if 使用\n",
    "\n"
   ]
  },
  {
   "cell_type": "code",
   "execution_count": 44,
   "id": "7d17b038-3807-4bc8-91a9-f69a49ba071f",
   "metadata": {},
   "outputs": [
    {
     "name": "stdout",
     "output_type": "stream",
     "text": [
      "[[1 1 1 1 1 3 3 3 3 3 3 3 5 5 7 7 7 9 9]\n",
      " [1 1 1 1 1 3 3 3 3 3 3 3 5 5 7 7 7 9 9]]\n",
      "[[0, 5], [0, 6], [0, 7], [0, 8], [0, 9], [0, 10], [0, 11], [1, 5], [1, 6], [1, 7], [1, 8], [1, 9], [1, 10], [1, 11]]\n"
     ]
    }
   ],
   "source": [
    "testData = [1,1,1,1,1,3,3,3,3,3,3,3,5,5,7,7,7,9,9]\n",
    "\n",
    "\n",
    "import numpy as np\n",
    "testData = np.array( [testData,testData])\n",
    "print(testData)\n",
    "\n",
    "eq_letter = np.argwhere(testData == 3)\n",
    "print( eq_letter.tolist())"
   ]
  },
  {
   "cell_type": "code",
   "execution_count": 11,
   "id": "915d32f1-adfe-4cb8-9a58-178568b8b8ca",
   "metadata": {},
   "outputs": [
    {
     "ename": "NameError",
     "evalue": "name 'jkjkjkjkjkjk' is not defined",
     "output_type": "error",
     "traceback": [
      "\u001b[1;31m---------------------------------------------------------------------------\u001b[0m",
      "\u001b[1;31mNameError\u001b[0m                                 Traceback (most recent call last)",
      "\u001b[1;32m<ipython-input-11-0372d9948fc2>\u001b[0m in \u001b[0;36m<module>\u001b[1;34m\u001b[0m\n\u001b[0;32m      1\u001b[0m \u001b[0mc\u001b[0m \u001b[1;33m=\u001b[0m \u001b[1;36m99\u001b[0m\u001b[1;33m\u001b[0m\u001b[1;33m\u001b[0m\u001b[0m\n\u001b[0;32m      2\u001b[0m \u001b[1;33m\u001b[0m\u001b[0m\n\u001b[1;32m----> 3\u001b[1;33m \u001b[0mjkjkjkjkjkjk\u001b[0m\u001b[1;33m\u001b[0m\u001b[1;33m\u001b[0m\u001b[0m\n\u001b[0m\u001b[0;32m      4\u001b[0m \u001b[1;33m\u001b[0m\u001b[0m\n\u001b[0;32m      5\u001b[0m \u001b[0mc\u001b[0m\u001b[1;33m=\u001b[0m \u001b[1;36m90\u001b[0m\u001b[1;33m\u001b[0m\u001b[1;33m\u001b[0m\u001b[0m\n",
      "\u001b[1;31mNameError\u001b[0m: name 'jkjkjkjkjkjk' is not defined"
     ]
    }
   ],
   "source": [
    "c = 99\n",
    "\n",
    "jkjkjkjkjkjk\n",
    "\n",
    "c= 90"
   ]
  },
  {
   "cell_type": "code",
   "execution_count": 12,
   "id": "557c7706-fec1-48a0-a36e-1372efc2ca97",
   "metadata": {},
   "outputs": [
    {
     "name": "stdout",
     "output_type": "stream",
     "text": [
      "99\n"
     ]
    }
   ],
   "source": [
    "print(c)"
   ]
  },
  {
   "cell_type": "code",
   "execution_count": 1,
   "id": "cbd295e8-303c-400a-a65d-b0e214284f96",
   "metadata": {},
   "outputs": [],
   "source": [
    "kkkkkk = 'lul'"
   ]
  },
  {
   "cell_type": "code",
   "execution_count": 3,
   "id": "fe023732-a7c0-4c7f-bd5f-56b6c815e78d",
   "metadata": {},
   "outputs": [
    {
     "name": "stdout",
     "output_type": "stream",
     "text": [
      "lul\n"
     ]
    }
   ],
   "source": [
    "print(kkkkkk)"
   ]
  },
  {
   "cell_type": "code",
   "execution_count": 5,
   "id": "53d82504-29bc-4562-9005-b5169cbb44e9",
   "metadata": {},
   "outputs": [
    {
     "ename": "NameError",
     "evalue": "name 'delete' is not defined",
     "output_type": "error",
     "traceback": [
      "\u001b[1;31m---------------------------------------------------------------------------\u001b[0m",
      "\u001b[1;31mNameError\u001b[0m                                 Traceback (most recent call last)",
      "\u001b[1;32m<ipython-input-5-1207b8825d29>\u001b[0m in \u001b[0;36m<module>\u001b[1;34m\u001b[0m\n\u001b[1;32m----> 1\u001b[1;33m \u001b[0mdelete\u001b[0m\u001b[1;33m(\u001b[0m\u001b[0mkkkkkk\u001b[0m\u001b[1;33m)\u001b[0m\u001b[1;33m\u001b[0m\u001b[1;33m\u001b[0m\u001b[0m\n\u001b[0m",
      "\u001b[1;31mNameError\u001b[0m: name 'delete' is not defined"
     ]
    }
   ],
   "source": []
  },
  {
   "cell_type": "code",
   "execution_count": 8,
   "id": "ff17a8cb-35ff-4bf8-a15d-ede6b2ad8497",
   "metadata": {},
   "outputs": [
    {
     "ename": "SyntaxError",
     "evalue": "invalid syntax (<ipython-input-8-66ad1cd4316a>, line 1)",
     "output_type": "error",
     "traceback": [
      "\u001b[1;36m  File \u001b[1;32m\"<ipython-input-8-66ad1cd4316a>\"\u001b[1;36m, line \u001b[1;32m1\u001b[0m\n\u001b[1;33m    import lib/foldertet\u001b[0m\n\u001b[1;37m              ^\u001b[0m\n\u001b[1;31mSyntaxError\u001b[0m\u001b[1;31m:\u001b[0m invalid syntax\n"
     ]
    }
   ],
   "source": [
    "import lib/foldertet"
   ]
  },
  {
   "cell_type": "code",
   "execution_count": null,
   "id": "52535f86-0191-4529-b056-01a71521daa6",
   "metadata": {},
   "outputs": [],
   "source": []
  }
 ],
 "metadata": {
  "kernelspec": {
   "display_name": "Python 3",
   "language": "python",
   "name": "python3"
  },
  "language_info": {
   "codemirror_mode": {
    "name": "ipython",
    "version": 3
   },
   "file_extension": ".py",
   "mimetype": "text/x-python",
   "name": "python",
   "nbconvert_exporter": "python",
   "pygments_lexer": "ipython3",
   "version": "3.8.8"
  }
 },
 "nbformat": 4,
 "nbformat_minor": 5
}
