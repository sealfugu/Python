{
 "cells": [
  {
   "cell_type": "code",
   "execution_count": 1,
   "id": "869f6bc0-ee74-46d4-b518-eaee5e7b762a",
   "metadata": {
    "scrolled": true,
    "tags": []
   },
   "outputs": [],
   "source": [
    "import sys"
   ]
  },
  {
   "cell_type": "code",
   "execution_count": 2,
   "id": "3a7bea7b-6a91-4acc-a000-3b41cb3f9e6e",
   "metadata": {
    "tags": []
   },
   "outputs": [
    {
     "name": "stdout",
     "output_type": "stream",
     "text": [
      "C:\\work\\20210701\\python\n",
      "C:\\Users\\peter\\anaconda3\\python38.zip\n",
      "C:\\Users\\peter\\anaconda3\\DLLs\n",
      "C:\\Users\\peter\\anaconda3\\lib\n",
      "C:\\Users\\peter\\anaconda3\n",
      "\n",
      "C:\\Users\\peter\\anaconda3\\lib\\site-packages\n",
      "C:\\Users\\peter\\anaconda3\\lib\\site-packages\\locket-0.2.1-py3.8.egg\n",
      "C:\\Users\\peter\\anaconda3\\lib\\site-packages\\win32\n",
      "C:\\Users\\peter\\anaconda3\\lib\\site-packages\\win32\\lib\n",
      "C:\\Users\\peter\\anaconda3\\lib\\site-packages\\Pythonwin\n",
      "C:\\Users\\peter\\anaconda3\\lib\\site-packages\\IPython\\extensions\n",
      "C:\\Users\\peter\\.ipython\n"
     ]
    }
   ],
   "source": [
    "for P in sys.path:\n",
    "    print(P)"
   ]
  },
  {
   "cell_type": "code",
   "execution_count": 4,
   "id": "ef042ac8-c7f5-478b-a758-724b3be9c5fd",
   "metadata": {},
   "outputs": [],
   "source": [
    "sys.path.append('./lib/')"
   ]
  },
  {
   "cell_type": "code",
   "execution_count": 5,
   "id": "5f5148ab-bbfd-4d4a-9855-8d0463a603d7",
   "metadata": {},
   "outputs": [],
   "source": [
    "import folderTet"
   ]
  },
  {
   "cell_type": "code",
   "execution_count": 6,
   "id": "c1b19e6d-8fdd-4a79-b1cb-41150743ce63",
   "metadata": {},
   "outputs": [
    {
     "name": "stdout",
     "output_type": "stream",
     "text": [
      "hello world\n"
     ]
    }
   ],
   "source": [
    "folderTet.folderTest()"
   ]
  },
  {
   "cell_type": "code",
   "execution_count": null,
   "id": "b1be8c44-19da-4f3a-a8ef-e8f73f7cee2d",
   "metadata": {},
   "outputs": [],
   "source": []
  }
 ],
 "metadata": {
  "kernelspec": {
   "display_name": "Python 3",
   "language": "python",
   "name": "python3"
  },
  "language_info": {
   "codemirror_mode": {
    "name": "ipython",
    "version": 3
   },
   "file_extension": ".py",
   "mimetype": "text/x-python",
   "name": "python",
   "nbconvert_exporter": "python",
   "pygments_lexer": "ipython3",
   "version": "3.8.8"
  }
 },
 "nbformat": 4,
 "nbformat_minor": 5
}
